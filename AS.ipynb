{
 "cells": [
  {
   "cell_type": "code",
   "execution_count": 1,
   "id": "012d1d93",
   "metadata": {},
   "outputs": [
    {
     "ename": "ModuleNotFoundError",
     "evalue": "No module named 'tensorflow'",
     "output_type": "error",
     "traceback": [
      "\u001b[1;31m---------------------------------------------------------------------------\u001b[0m",
      "\u001b[1;31mModuleNotFoundError\u001b[0m                       Traceback (most recent call last)",
      "Cell \u001b[1;32mIn[1], line 1\u001b[0m\n\u001b[1;32m----> 1\u001b[0m \u001b[39mimport\u001b[39;00m \u001b[39mtensorflow\u001b[39;00m \u001b[39mas\u001b[39;00m \u001b[39mtf\u001b[39;00m\n\u001b[0;32m      2\u001b[0m \u001b[39mfrom\u001b[39;00m \u001b[39mtensorflow\u001b[39;00m \u001b[39mimport\u001b[39;00m keras\n\u001b[0;32m      3\u001b[0m tf\u001b[39m.\u001b[39m__version__\n",
      "\u001b[1;31mModuleNotFoundError\u001b[0m: No module named 'tensorflow'"
     ]
    }
   ],
   "source": [
    "import tensorflow as tf\n",
    "from tensorflow import keras\n",
    "tf.__version__\n"
   ]
  },
  {
   "cell_type": "code",
   "execution_count": null,
   "id": "5cd37af3",
   "metadata": {},
   "outputs": [
    {
     "data": {
      "text/plain": [
       "'2.9.0'"
      ]
     },
     "execution_count": 6,
     "metadata": {},
     "output_type": "execute_result"
    }
   ],
   "source": [
    "keras.__version__"
   ]
  },
  {
   "cell_type": "code",
   "execution_count": null,
   "id": "65a69ef2",
   "metadata": {},
   "outputs": [
    {
     "data": {
      "text/plain": [
       "dtype('uint8')"
      ]
     },
     "execution_count": 10,
     "metadata": {},
     "output_type": "execute_result"
    }
   ],
   "source": [
    "fashion_mnist = keras.datasets.fashion_mnist\n",
    "(x_train_full,y_train_full),(x_test,y_test)=fashion_mnist.load_data()\n",
    "x_train_full.shape\n",
    "x_train_full.dtype"
   ]
  },
  {
   "cell_type": "code",
   "execution_count": null,
   "id": "872a455e",
   "metadata": {},
   "outputs": [
    {
     "data": {
      "text/plain": [
       "'Coart'"
      ]
     },
     "execution_count": 11,
     "metadata": {},
     "output_type": "execute_result"
    }
   ],
   "source": [
    "x_valid,x_train = x_train_full[:5000]/255.0,x_train_full[5000:]/255.0\n",
    "y_valid,y_train = y_train_full[:5000],y_train_full[5000:]\n",
    "class_names =[\"T-shirt/top\",\"Trouser\",\"Pullover\",\"Dress\",\"Coart\",\n",
    "             \"Sandal\",\"Shirt\",\"Sneaker\",\"Bag\",\"Ankle boot\"]\n",
    "class_names[y_train[0]]"
   ]
  },
  {
   "cell_type": "code",
   "execution_count": null,
   "id": "4df7a027",
   "metadata": {},
   "outputs": [],
   "source": [
    "model=keras.models.Sequential()\n",
    "model.add(keras.layers.Flatten(input_shape=[28,28]))\n",
    "model.add(keras.layers.Dense(300,activation=\"relu\"))\n",
    "model.add(keras.layers.Dense(100,activation=\"relu\"))\n",
    "model.add(keras.layers.Dense(10,activation=\"softmax\"))"
   ]
  },
  {
   "cell_type": "code",
   "execution_count": null,
   "id": "7a5284ae",
   "metadata": {},
   "outputs": [],
   "source": [
    "model.compile(loss=\"sparse_categorical_crossentropy\",\n",
    "             optimizer=\"sgd\",\n",
    "             metrics=[\"accuracy\"])"
   ]
  },
  {
   "cell_type": "code",
   "execution_count": null,
   "id": "a96eaf16",
   "metadata": {},
   "outputs": [
    {
     "name": "stdout",
     "output_type": "stream",
     "text": [
      "Epoch 1/30\n",
      "1719/1719 [==============================] - 11s 6ms/step - loss: 0.7431 - accuracy: 0.7554 - val_loss: 0.5010 - val_accuracy: 0.8318\n",
      "Epoch 2/30\n",
      "1719/1719 [==============================] - 9s 5ms/step - loss: 0.4911 - accuracy: 0.8298 - val_loss: 0.4450 - val_accuracy: 0.8486\n",
      "Epoch 3/30\n",
      "1719/1719 [==============================] - 9s 5ms/step - loss: 0.4443 - accuracy: 0.8439 - val_loss: 0.4108 - val_accuracy: 0.8590\n",
      "Epoch 4/30\n",
      "1719/1719 [==============================] - 9s 5ms/step - loss: 0.4173 - accuracy: 0.8543 - val_loss: 0.3997 - val_accuracy: 0.8648\n",
      "Epoch 5/30\n",
      "1719/1719 [==============================] - 10s 6ms/step - loss: 0.3976 - accuracy: 0.8616 - val_loss: 0.3928 - val_accuracy: 0.8628\n",
      "Epoch 6/30\n",
      "1719/1719 [==============================] - 10s 6ms/step - loss: 0.3817 - accuracy: 0.8657 - val_loss: 0.3840 - val_accuracy: 0.8644\n",
      "Epoch 7/30\n",
      "1719/1719 [==============================] - 9s 5ms/step - loss: 0.3673 - accuracy: 0.8699 - val_loss: 0.3580 - val_accuracy: 0.8756\n",
      "Epoch 8/30\n",
      "1719/1719 [==============================] - 10s 6ms/step - loss: 0.3570 - accuracy: 0.8732 - val_loss: 0.3546 - val_accuracy: 0.8732\n",
      "Epoch 9/30\n",
      "1719/1719 [==============================] - 9s 5ms/step - loss: 0.3459 - accuracy: 0.8775 - val_loss: 0.3523 - val_accuracy: 0.8740\n",
      "Epoch 10/30\n",
      "1719/1719 [==============================] - 9s 5ms/step - loss: 0.3357 - accuracy: 0.8806 - val_loss: 0.3651 - val_accuracy: 0.8686\n",
      "Epoch 11/30\n",
      "1719/1719 [==============================] - 9s 6ms/step - loss: 0.3281 - accuracy: 0.8840 - val_loss: 0.3396 - val_accuracy: 0.8792\n",
      "Epoch 12/30\n",
      "1719/1719 [==============================] - 9s 5ms/step - loss: 0.3204 - accuracy: 0.8858 - val_loss: 0.3392 - val_accuracy: 0.8754\n",
      "Epoch 13/30\n",
      "1719/1719 [==============================] - 10s 6ms/step - loss: 0.3137 - accuracy: 0.8881 - val_loss: 0.3330 - val_accuracy: 0.8836\n",
      "Epoch 14/30\n",
      "1719/1719 [==============================] - 9s 5ms/step - loss: 0.3066 - accuracy: 0.8890 - val_loss: 0.3360 - val_accuracy: 0.8782\n",
      "Epoch 15/30\n",
      "1719/1719 [==============================] - 10s 6ms/step - loss: 0.2995 - accuracy: 0.8926 - val_loss: 0.3178 - val_accuracy: 0.8828\n",
      "Epoch 16/30\n",
      "1719/1719 [==============================] - 9s 5ms/step - loss: 0.2939 - accuracy: 0.8945 - val_loss: 0.3236 - val_accuracy: 0.8858\n",
      "Epoch 17/30\n",
      "1719/1719 [==============================] - 9s 5ms/step - loss: 0.2886 - accuracy: 0.8964 - val_loss: 0.3277 - val_accuracy: 0.8818\n",
      "Epoch 18/30\n",
      "1719/1719 [==============================] - 9s 6ms/step - loss: 0.2830 - accuracy: 0.8983 - val_loss: 0.3230 - val_accuracy: 0.8832\n",
      "Epoch 19/30\n",
      "1719/1719 [==============================] - 9s 5ms/step - loss: 0.2785 - accuracy: 0.9000 - val_loss: 0.3189 - val_accuracy: 0.8812\n",
      "Epoch 20/30\n",
      "1719/1719 [==============================] - 9s 6ms/step - loss: 0.2732 - accuracy: 0.9005 - val_loss: 0.3097 - val_accuracy: 0.8828\n",
      "Epoch 21/30\n",
      "1719/1719 [==============================] - 9s 5ms/step - loss: 0.2681 - accuracy: 0.9038 - val_loss: 0.3201 - val_accuracy: 0.8828\n",
      "Epoch 22/30\n",
      "1719/1719 [==============================] - 9s 5ms/step - loss: 0.2636 - accuracy: 0.9039 - val_loss: 0.3029 - val_accuracy: 0.8896\n",
      "Epoch 23/30\n",
      "1719/1719 [==============================] - 9s 5ms/step - loss: 0.2582 - accuracy: 0.9064 - val_loss: 0.3046 - val_accuracy: 0.8890\n",
      "Epoch 24/30\n",
      "1719/1719 [==============================] - 9s 5ms/step - loss: 0.2539 - accuracy: 0.9080 - val_loss: 0.2995 - val_accuracy: 0.8918\n",
      "Epoch 25/30\n",
      "1719/1719 [==============================] - 9s 6ms/step - loss: 0.2505 - accuracy: 0.9081 - val_loss: 0.3146 - val_accuracy: 0.8882\n",
      "Epoch 26/30\n",
      "1719/1719 [==============================] - 9s 5ms/step - loss: 0.2457 - accuracy: 0.9120 - val_loss: 0.3012 - val_accuracy: 0.8898\n",
      "Epoch 27/30\n",
      "1719/1719 [==============================] - 10s 6ms/step - loss: 0.2423 - accuracy: 0.9126 - val_loss: 0.3147 - val_accuracy: 0.8874\n",
      "Epoch 28/30\n",
      "1719/1719 [==============================] - 9s 5ms/step - loss: 0.2385 - accuracy: 0.9140 - val_loss: 0.2942 - val_accuracy: 0.8944\n",
      "Epoch 29/30\n",
      "1719/1719 [==============================] - 9s 5ms/step - loss: 0.2353 - accuracy: 0.9146 - val_loss: 0.3077 - val_accuracy: 0.8864\n",
      "Epoch 30/30\n",
      "1719/1719 [==============================] - 10s 6ms/step - loss: 0.2305 - accuracy: 0.9176 - val_loss: 0.3035 - val_accuracy: 0.8882\n"
     ]
    }
   ],
   "source": [
    "history=model.fit(x_train,y_train,epochs=30,\n",
    "                                            validation_data=(x_valid,y_valid))"
   ]
  },
  {
   "cell_type": "code",
   "execution_count": null,
   "id": "e418f953",
   "metadata": {},
   "outputs": [],
   "source": []
  }
 ],
 "metadata": {
  "kernelspec": {
   "display_name": "Python 3.11.0 64-bit",
   "language": "python",
   "name": "python3"
  },
  "language_info": {
   "codemirror_mode": {
    "name": "ipython",
    "version": 3
   },
   "file_extension": ".py",
   "mimetype": "text/x-python",
   "name": "python",
   "nbconvert_exporter": "python",
   "pygments_lexer": "ipython3",
   "version": "3.11.0"
  },
  "vscode": {
   "interpreter": {
    "hash": "ce2c6c5048fa523b99008509fb9eec565a98db21a3d9df8577c6642fe0ae414b"
   }
  }
 },
 "nbformat": 4,
 "nbformat_minor": 5
}
